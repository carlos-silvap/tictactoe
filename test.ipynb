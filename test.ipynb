{
 "cells": [
  {
   "cell_type": "code",
   "execution_count": null,
   "metadata": {},
   "outputs": [],
   "source": [
    "from reachy_sdk import ReachySDK\n",
    "from reachy_sdk.trajectory import goto\n",
    "from reachy_sdk.trajectory.interpolation import InterpolationMode\n",
    "import time\n",
    "import numpy as np"
   ]
  },
  {
   "cell_type": "code",
   "execution_count": null,
   "metadata": {},
   "outputs": [],
   "source": [
    "reachy = ReachySDK('localhost')"
   ]
  },
  {
   "cell_type": "code",
   "execution_count": null,
   "metadata": {},
   "outputs": [
    {
     "name": "stderr",
     "output_type": "stream",
     "text": [
      "Exception in thread Thread-8:\n",
      "Traceback (most recent call last):\n",
      "  File \"/home/reachy/miniconda3/lib/python3.9/threading.py\", line 954, in _bootstrap_inner\n",
      "    self.run()\n",
      "  File \"/home/reachy/miniconda3/lib/python3.9/threading.py\", line 892, in run\n",
      "    self._target(*self._args, **self._kwargs)\n",
      "  File \"/home/reachy/miniconda3/lib/python3.9/site-packages/reachy_sdk/reachy_sdk.py\", line 185, in _start_sync_in_bg\n",
      "    loop.run_until_complete(self._sync_loop())\n",
      "  File \"/home/reachy/miniconda3/lib/python3.9/asyncio/base_events.py\", line 642, in run_until_complete\n",
      "    return future.result()\n",
      "  File \"/home/reachy/miniconda3/lib/python3.9/site-packages/reachy_sdk/reachy_sdk.py\", line 240, in _sync_loop\n",
      "    await asyncio.gather(\n",
      "  File \"/home/reachy/miniconda3/lib/python3.9/site-packages/reachy_sdk/reachy_sdk.py\", line 195, in _get_stream_update_loop\n",
      "    async for state_update in joint_stub.StreamJointsState(stream_req):\n",
      "  File \"/home/reachy/miniconda3/lib/python3.9/site-packages/grpc/aio/_call.py\", line 326, in _fetch_stream_responses\n",
      "    await self._raise_for_status()\n",
      "  File \"/home/reachy/miniconda3/lib/python3.9/site-packages/grpc/aio/_call.py\", line 236, in _raise_for_status\n",
      "    raise _create_rpc_error(await self.initial_metadata(), await\n",
      "grpc.aio._call.AioRpcError: <AioRpcError of RPC that terminated with:\n",
      "\tstatus = StatusCode.UNAVAILABLE\n",
      "\tdetails = \"Socket closed\"\n",
      "\tdebug_error_string = \"{\"created\":\"@1652193281.226879384\",\"description\":\"Error received from peer ipv6:[::1]:50055\",\"file\":\"src/core/lib/surface/call.cc\",\"file_line\":1063,\"grpc_message\":\"Socket closed\",\"grpc_status\":14}\"\n",
      ">\n"
     ]
    }
   ],
   "source": [
    "reachy.turn_off_smoothly('reachy')"
   ]
  },
  {
   "cell_type": "code",
   "execution_count": null,
   "metadata": {},
   "outputs": [],
   "source": [
    "reachy.turn_on('reachy')"
   ]
  },
  {
   "cell_type": "code",
   "execution_count": null,
   "metadata": {},
   "outputs": [],
   "source": [
    "for f in reachy.fans.values():\n",
    "    f.off()"
   ]
  },
  {
   "cell_type": "code",
   "execution_count": null,
   "metadata": {},
   "outputs": [],
   "source": [
    "#GET dataset images\n",
    "option='3'\n",
    "if option=='1':\n",
    "\n",
    "    j = 1000\n",
    "        #Save images for dataset\n",
    "    for i in range(9):\n",
    "        boxes = board.get_images()\n",
    "        cv2.imwrite('images/new/'+str(j)+'.jpg', boxes[i])\n",
    "        j=j+1 "
   ]
  },
  {
   "cell_type": "code",
   "execution_count": null,
   "metadata": {},
   "outputs": [],
   "source": [
    "else:\n",
    "    boardd = [2, 0, 0, 0, 0, 1, 2, 0, 1]\n",
    "    #game = np.array_split(boardd,3)\n",
    "    #action =  board.choose_next_action(boardd)\n",
    "    #for i in range(9):\n",
    "    #    robot.play_pawn(1,i+1)\n",
    "    #print(game)\n",
    "    #print(action)"
   ]
  },
  {
   "cell_type": "code",
   "execution_count": null,
   "metadata": {},
   "outputs": [],
   "source": [
    "i = 1\n",
    "while (True):\n",
    "    \n",
    "    state = board.get_board()\n",
    "    winner = board.get_winner(state)\n",
    "    if winner == 'nobody':\n",
    "        game = np.array_split(state,3)\n",
    "        print(game[0])\n",
    "        print(game[1])\n",
    "        print(game[2])\n",
    "        print('     ')\n",
    "        print('     ')\n",
    "        \n",
    "        action =  -board.choose_next_action(state)[0] +9\n",
    "        print(action)\n",
    "        #print(action)\n",
    "        robot.play_pawn(i,action)\n",
    "        time.sleep(2)\n",
    "        i = i + 1 \n",
    "    elif winner==1:\n",
    "        print('Robot won')\n",
    "        break\n",
    "    else:\n",
    "        print('Human won')\n",
    "        break\n",
    "#robot.reachy.turn_off_smoothly('r_arm')\n"
   ]
  }
 ],
 "metadata": {
  "interpreter": {
   "hash": "e3ba50d256704eac77c4e85e4b333651444de19dce30ba05fcbffb6df31668ee"
  },
  "kernelspec": {
   "display_name": "Python 3.9.5 ('base')",
   "language": "python",
   "name": "python3"
  },
  "language_info": {
   "codemirror_mode": {
    "name": "ipython",
    "version": 3
   },
   "file_extension": ".py",
   "mimetype": "text/x-python",
   "name": "python",
   "nbconvert_exporter": "python",
   "pygments_lexer": "ipython3",
   "version": "3.9.5"
  },
  "orig_nbformat": 4
 },
 "nbformat": 4,
 "nbformat_minor": 2
}
