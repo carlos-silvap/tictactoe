{
 "cells": [
  {
   "cell_type": "code",
   "execution_count": 4,
   "metadata": {},
   "outputs": [],
   "source": [
    "from reachy_sdk import ReachySDK\n",
    "from reachy_sdk.trajectory import goto\n",
    "from reachy_sdk.trajectory.interpolation import InterpolationMode\n",
    "import time\n",
    "import numpy as np\n",
    "import cv2\n"
   ]
  },
  {
   "cell_type": "code",
   "execution_count": null,
   "metadata": {},
   "outputs": [],
   "source": [
    "\n",
    "def get_images(self, lowS, lowV):\n",
    "    self.image_getter.update_image()\n",
    "    img = self.image_getter.cam_img\n",
    "    img = cv2.resize(img, (widthImg, heightImg))                                                        # RESIZE IMAGE TO MAKE IT A SQUARE IMAGE\n",
    "    imgThreshold = preProcessHSV(img, lowS, lowV)\n",
    "    contours, _ = cv2.findContours(imgThreshold, cv2.RETR_EXTERNAL, cv2.CHAIN_APPROX_SIMPLE)            # FIND ALL CONTOURS\n",
    "    biggest, _ = biggestContour(contours)                                                               # FIND THE BIGGEST CONTOUR\n",
    "    if biggest.size != 0:\n",
    "        biggest = reorder(biggest)\n",
    "        pts1 = np.float32(biggest)                                                                      # PREPARE POINTS FOR WARP\n",
    "        pts2 = np.float32([[0, 0],[widthImg, 0], [0, heightImg],[widthImg, heightImg]])                 # PREPARE POINTS FOR WARP\n",
    "        matrix = cv2.getPerspectiveTransform(pts1, pts2)                                                # GER\n",
    "        imgWarpColored = cv2.warpPerspective(img, matrix, (widthImg, heightImg))\n",
    "        boxes = splitBoxes(imgWarpColored)\n",
    "    return boxes"
   ]
  },
  {
   "cell_type": "code",
   "execution_count": 5,
   "metadata": {},
   "outputs": [],
   "source": [
    "reachy = ReachySDK('localhost')"
   ]
  },
  {
   "cell_type": "code",
   "execution_count": null,
   "metadata": {},
   "outputs": [],
   "source": [
    "goto(\n",
    "    goal_positions=\n",
    "            {reachy.r_arm.r_shoulder_pitch: 55,\n",
    "            reachy.r_arm.r_shoulder_roll: -15,\n",
    "            reachy.r_arm.r_arm_yaw: 0,\n",
    "            reachy.r_arm.r_elbow_pitch: -85,\n",
    "            reachy.r_arm.r_forearm_yaw: -10,\n",
    "            reachy.r_arm.r_wrist_pitch: -50,\n",
    "            reachy.r_arm.r_wrist_roll: 0},\n",
    "        duration=1.0,\n",
    "        interpolation_mode=InterpolationMode.MINIMUM_JERK\n",
    "    )"
   ]
  },
  {
   "cell_type": "code",
   "execution_count": 6,
   "metadata": {},
   "outputs": [],
   "source": [
    "reachy.turn_off_smoothly('reachy')"
   ]
  },
  {
   "cell_type": "code",
   "execution_count": 7,
   "metadata": {},
   "outputs": [],
   "source": [
    "import os\n",
    "path = '/home/reachy/repos/TicTacToe/tictactoe/images/empty'\n",
    "files = os.listdir(path)\n",
    "\n",
    "\n",
    "for index, file in enumerate(files):\n",
    "    os.rename(os.path.join(path, file), os.path.join(path, ''.join([str(index+813), '.jpg'])))"
   ]
  },
  {
   "cell_type": "code",
   "execution_count": null,
   "metadata": {},
   "outputs": [],
   "source": [
    "reachy.turn_on('reachy')"
   ]
  },
  {
   "cell_type": "code",
   "execution_count": null,
   "metadata": {},
   "outputs": [],
   "source": [
    "for f in reachy.fans.values():\n",
    "    f.on()"
   ]
  },
  {
   "cell_type": "code",
   "execution_count": null,
   "metadata": {},
   "outputs": [],
   "source": [
    "for f in reachy.fans.values():\n",
    "    f.off()"
   ]
  },
  {
   "cell_type": "code",
   "execution_count": null,
   "metadata": {},
   "outputs": [],
   "source": [
    "#GET dataset images\n",
    "j = 1000\n",
    "    #Save images for dataset\n",
    "for i in range(9):\n",
    "    boxes = board.get_images()\n",
    "    cv2.imwrite('images/new/'+str(j)+'.jpg', boxes[i])\n",
    "    j=j+1 "
   ]
  },
  {
   "cell_type": "code",
   "execution_count": null,
   "metadata": {},
   "outputs": [],
   "source": [
    "i = 1\n",
    "while (True):\n",
    "    \n",
    "    state = board.get_board()\n",
    "    winner = board.get_winner(state)\n",
    "    if winner == 'nobody':\n",
    "        game = np.array_split(state,3)\n",
    "        print(game[0])\n",
    "        print(game[1])\n",
    "        print(game[2])\n",
    "        print('     ')\n",
    "        print('     ')\n",
    "        \n",
    "        action =  -board.choose_next_action(state)[0] +9\n",
    "        print(action)\n",
    "        #print(action)\n",
    "        robot.play_pawn(i,action)\n",
    "        time.sleep(2)\n",
    "        i = i + 1 \n",
    "    elif winner==1:\n",
    "        print('Robot won')\n",
    "        break\n",
    "    else:\n",
    "        print('Human won')\n",
    "        break\n",
    "#robot.reachy.turn_off_smoothly('r_arm')\n"
   ]
  },
  {
   "cell_type": "code",
   "execution_count": null,
   "metadata": {},
   "outputs": [],
   "source": [
    "    if winner == 'nobody':\n",
    "\n",
    "        # if (board.incoherent_board_detected(state)):\n",
    "        #     double_check_board = board.get_board(lowS, lowV)\n",
    "        #     if np.any(double_check_board != state):\n",
    "        #         print(\"RESTART\") \n",
    "        #         #tictactoe_playground.shuffle_board()\n",
    "        #         break\n",
    "\n",
    "        game_inv = state[::-1]\n",
    "        game_inv = np.array_split(game_inv,3)\n",
    "        print(game_inv[0])\n",
    "        print(game_inv[1])\n",
    "        print(game_inv[2])\n",
    "        print('       ')\n",
    "        \n",
    "        action =  - board.choose_next_action(state)[0] + 9\n",
    "        #robot.play_pawn(i,action)\n",
    "        time.sleep(2)\n",
    "        \n",
    "        i = i + 1 \n",
    "    elif winner==1:\n",
    "        print('Robot won')\n",
    "        robot.reachy.turn_on('reachy')\n",
    "        robot.happy()\n",
    "        break\n",
    "    else:\n",
    "        print('Human won')\n",
    "        robot.reachy.turn_on('reachy')\n",
    "        robot.sad()\n",
    "        break\n",
    "\n",
    "robot.rest()\n",
    "robot.reachy.turn_off('reachy')"
   ]
  },
  {
   "cell_type": "code",
   "execution_count": null,
   "metadata": {},
   "outputs": [],
   "source": [
    "#game loop\n",
    "while True:\n",
    "    board = playground.get_board(lowS, lowV)\n",
    "    \n",
    "    if not reachy_turn:\n",
    "        if playground.has_human_played(board, last_board):\n",
    "            reachy_turn = True\n",
    "        else:\n",
    "            robot.run_random_idle_behavior()\n",
    "\n",
    "    if (playground.incoherent_board_detected(board) or\n",
    "                playground.cheating_detected(board, last_board, reachy_turn)):\n",
    "        double_check_board = playground.get_board(lowS, lowV)\n",
    "        if np.any(double_check_board != last_board): \n",
    "            #tictactoe_playground.shuffle_board()\n",
    "            print(\"shuffle board\")\n",
    "            break\n",
    "        else :\n",
    "                # False detection, we will check again next loop\n",
    "                continue\n",
    "        \n",
    "    if (not playground.is_final(board)) and reachy_turn:\n",
    "        action, _ = playground.choose_next_action(board)\n",
    "        board = robot.play(action, board)\n",
    "\n",
    "        last_board = board\n",
    "        reachy_turn = False\n",
    "    \n",
    "    if playground.is_final(board):\n",
    "        winner = playground.get_winner(board)\n",
    "\n",
    "        if winner == 1:\n",
    "            robot.happy()\n",
    "        elif winner == 2:\n",
    "            robot.sad()\n",
    "        else:\n",
    "            robot.sad()\n",
    "        print(winner)"
   ]
  }
 ],
 "metadata": {
  "interpreter": {
   "hash": "e3ba50d256704eac77c4e85e4b333651444de19dce30ba05fcbffb6df31668ee"
  },
  "kernelspec": {
   "display_name": "Python 3.9.5 ('base')",
   "language": "python",
   "name": "python3"
  },
  "language_info": {
   "codemirror_mode": {
    "name": "ipython",
    "version": 3
   },
   "file_extension": ".py",
   "mimetype": "text/x-python",
   "name": "python",
   "nbconvert_exporter": "python",
   "pygments_lexer": "ipython3",
   "version": "3.9.5"
  },
  "orig_nbformat": 4
 },
 "nbformat": 4,
 "nbformat_minor": 2
}
