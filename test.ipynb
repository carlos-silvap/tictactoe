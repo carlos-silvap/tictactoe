{
 "cells": [
  {
   "cell_type": "code",
   "execution_count": 1,
   "metadata": {},
   "outputs": [],
   "source": [
    "from reachy_sdk import ReachySDK\n",
    "from reachy_sdk.trajectory import goto\n",
    "from reachy_sdk.trajectory.interpolation import InterpolationMode\n",
    "import time\n",
    "import numpy as np"
   ]
  },
  {
   "cell_type": "code",
   "execution_count": 2,
   "metadata": {},
   "outputs": [],
   "source": [
    "reachy = ReachySDK('localhost')"
   ]
  },
  {
   "cell_type": "code",
   "execution_count": 3,
   "metadata": {},
   "outputs": [],
   "source": [
    "reachy.turn_off_smoothly('reachy')"
   ]
  },
  {
   "cell_type": "code",
   "execution_count": null,
   "metadata": {},
   "outputs": [],
   "source": [
    "import os\n",
    "path = '/home/reachy/repos/TicTacToe/tictactoe/images/cubes'\n",
    "files = os.listdir(path)\n",
    "\n",
    "\n",
    "for index, file in enumerate(files):\n",
    "    os.rename(os.path.join(path, file), os.path.join(path, ''.join([str(index), '.jpg'])))"
   ]
  },
  {
   "cell_type": "code",
   "execution_count": null,
   "metadata": {},
   "outputs": [],
   "source": [
    "class Robot():\n",
    "    def __init__(self) -> None:\n",
    "        self.reachy = ReachySDK('localhost')\n",
    "    \n",
    "    def setup(self):\n",
    "        self.reachy.turn_on('head')\n",
    "        self.reachy.head.look_at(x=1, y=0, z=0, duration=1.5) \n",
    "        self.reachy.head.l_antenna.speed_limit = 50.0\n",
    "        self.reachy.head.r_antenna.speed_limit = 50.0\n",
    "        self.reachy.head.l_antenna.goal_position = 0\n",
    "        self.reachy.head.r_antenna.goal_position = 0\n",
    "        #self.goto_rest_position()\n",
    "    def play_pawn(self, grab_index, box_index):\n",
    "        self.reachy.r_arm.r_gripper.speed_limit = 80\n",
    "        self.reachy.r_arm.r_gripper.compliant = False\n",
    "        self.reachy.turn_on('r_arm')\n",
    "\n",
    "        # Goto base position\n",
    "        self.goto_base_position() \n",
    "        self.reachy.r_arm.r_gripper.goal_position = -10 #open the gripper \n",
    "        path = f'/home/reachy/repos/TicTacToe/tictactoe/movements/moves-2021_right/grab_{grab_index}.npz'\n",
    "        self.goto_position(path)\n",
    "        time.sleep(1)\n",
    "        self.reachy.r_arm.r_gripper.compliant = False \n",
    "        self.reachy.r_arm.r_gripper.goal_position = 13 #close the gripper to take the cylinder \n",
    "        time.sleep(1)\n",
    "\n",
    "\n",
    "        if grab_index >= 4:\n",
    "            goto(\n",
    "            goal_positions = {\n",
    "                self.reachy.r_arm.r_shoulder_pitch : self.reachy.r_arm.r_shoulder_pitch.goal_position+10, \n",
    "                self.reachy.r_arm.r_elbow_pitch : self.reachy.r_arm.r_elbow_pitch.goal_position+10, \n",
    "                },\n",
    "                duration =1.0,\n",
    "                interpolation_mode=InterpolationMode.MINIMUM_JERK\n",
    "            )\n",
    "\n",
    "        # Lift it\n",
    "        path = '/home/reachy/repos/TicTacToe/tictactoe/movements/moves-2021_right/lift.npz'\n",
    "        self.goto_position(path)\n",
    "        time.sleep(0.1)\n",
    "\n",
    "        # Put it in box_index\n",
    "\n",
    "        path = f'/home/reachy/repos/TicTacToe/tictactoe/movements/moves-2021_right/put_{box_index}.npz'\n",
    "        self.trajectoryPlayer(path)\n",
    "        time.sleep(1)\n",
    "        self.reachy.r_arm.r_gripper.compliant = False\n",
    "        self.reachy.r_arm.r_gripper.goal_position = -10\n",
    "        time.sleep(1)\n",
    "\n",
    "        path = f'/home/reachy/repos/TicTacToe/tictactoe/movements/moves-2021_right/back_{box_index}_upright.npz'\n",
    "        self.goto_position(path)\n",
    "\n",
    "\n",
    "        if box_index in (8, 9):\n",
    "\n",
    "            path = '/home/reachy/repos/TicTacToe/tictactoe/movements/moves-2021_right/back_to_back.npz'\n",
    "            self.goto_position(path)\n",
    "\n",
    "        path = '/home/reachy/repos/TicTacToe/tictactoe/movements/moves-2021_right/back_rest.npz'\n",
    "        self.goto_position(path)\n",
    "\n",
    "        self.goto_rest_position()\n",
    "\n",
    "    def goto_rest_position(self, duration=2.0):\n",
    "        time.sleep(0.1)\n",
    "        self.reachy.head.look_at(x=1, y=0, z=0, duration=1) \n",
    "        self.goto_base_position(0.6 * duration)\n",
    "        time.sleep(0.1)\n",
    "\n",
    "        self.reachy.turn_on('r_arm')\n",
    "\n",
    "    def goto_base_position(self, duration=2.0):\n",
    " \n",
    "        self.reachy.turn_on('r_arm')\n",
    "\n",
    "        time.sleep(0.1)\n",
    "        goto(\n",
    "            goal_positions=\n",
    "                    {self.reachy.r_arm.r_shoulder_pitch: 60,\n",
    "                    self.reachy.r_arm.r_shoulder_roll: -15,\n",
    "                    self.reachy.r_arm.r_arm_yaw: 0,\n",
    "                    self.reachy.r_arm.r_elbow_pitch: -95,\n",
    "                    self.reachy.r_arm.r_forearm_yaw: -15,\n",
    "                    self.reachy.r_arm.r_wrist_pitch: -50,\n",
    "                    self.reachy.r_arm.r_wrist_roll: 0},\n",
    "                duration=1.0,\n",
    "                interpolation_mode=InterpolationMode.MINIMUM_JERK\n",
    "            )\n",
    "        time.sleep(0.1)\n",
    "        self.reachy.r_arm.r_shoulder_pitch.torque_limit = 75\n",
    "        self.reachy.r_arm.r_elbow_pitch.torque_limit = 75\n",
    "\n",
    "    def goto_position(self, path): \n",
    "        self.reachy.turn_on('r_arm')\n",
    "        move = np.load(path)\n",
    "        move.allow_pickle=1\n",
    "        listMoves = move['move'].tolist()\n",
    "        listTraj = {}\n",
    "        for key,val in listMoves.items():\n",
    "            listTraj[eval('self.'+key)] = float(val)\n",
    "        goto(\n",
    "            goal_positions=listTraj, \n",
    "            duration=2.0,\n",
    "            interpolation_mode=InterpolationMode.MINIMUM_JERK\n",
    "        )\n",
    "\n",
    "    def trajectoryPlayer(self,path):\n",
    "        self.reachy.turn_on('r_arm')\n",
    "        move = np.load(path)\n",
    "        move.allow_pickle=1\n",
    "        #print(list(move.keys()))\n",
    "        #print(move['move'].shape)\n",
    "        listMoves = move['move'].tolist()\n",
    "        #print(move['move'])\n",
    "        #print(listMoves)\n",
    "        listTraj = [val for key,val in listMoves.items()]\n",
    "        listTraj = np.array(listTraj).T.tolist()\n",
    "\n",
    "        sampling_frequency = 100  #en hertz\n",
    "\n",
    "        recorded_joints = []\n",
    "        for joint,val in listMoves.items():\n",
    "            if 'neck' in joint : \n",
    "                fullName = 'self.' + joint\n",
    "            elif 'r_' in joint: \n",
    "                fullName = 'self.' + joint\n",
    "            elif 'l_' in joint: \n",
    "                fullName = 'self.' + joint\n",
    "            recorded_joints.append(eval(fullName))\n",
    "            \n",
    "        first_point = dict(zip(recorded_joints, listTraj[0]))\n",
    "        goto(first_point, duration=3.0)\n",
    "\n",
    "        for joints_positions in listTraj:\n",
    "            print(joints_positions)\n",
    "            for joint, pos in zip(recorded_joints, joints_positions):\n",
    "                joint.goal_position = pos\n",
    "            time.sleep(1 / sampling_frequency)\n",
    "\n",
    "    def rest(self, duration=1.0):\n",
    "        self.reachy.turn_on('r_arm')\n",
    "        time.sleep(0.1)\n",
    "        goto(\n",
    "            goal_positions=\n",
    "                    {self.reachy.r_arm.r_shoulder_pitch: 55,\n",
    "                    self.reachy.r_arm.r_shoulder_roll: -15,\n",
    "                    self.reachy.r_arm.r_arm_yaw: 0,\n",
    "                    self.reachy.r_arm.r_elbow_pitch: -85,\n",
    "                    self.reachy.r_arm.r_forearm_yaw: -10,\n",
    "                    self.reachy.r_arm.r_wrist_pitch: -50,\n",
    "                    self.reachy.r_arm.r_wrist_roll: 0},\n",
    "                duration=1.0,\n",
    "                interpolation_mode=InterpolationMode.MINIMUM_JERK\n",
    "            )\n",
    "        time.sleep(0.1)\n",
    "        self.reachy.r_arm.r_shoulder_pitch.torque_limit = 75\n",
    "        self.reachy.r_arm.r_elbow_pitch.torque_limit = 75\n",
    "\n"
   ]
  },
  {
   "cell_type": "code",
   "execution_count": null,
   "metadata": {},
   "outputs": [],
   "source": [
    "robot = Robot()"
   ]
  },
  {
   "cell_type": "code",
   "execution_count": null,
   "metadata": {},
   "outputs": [],
   "source": [
    "path = f'/home/reachy/repos/TicTacToe/tictactoe/movements/moves-2021_right/put_1.npz'\n",
    "robot.trajectoryPlayer(path)"
   ]
  },
  {
   "cell_type": "code",
   "execution_count": null,
   "metadata": {},
   "outputs": [],
   "source": [
    "robot.reachy.turn_on('r_arm')\n",
    "# Goto base position\n",
    "robot.goto_base_position() \n",
    "robot.reachy.r_arm.r_gripper.goal_position = -10 #open the gripper \n",
    "path = f'/home/reachy/repos/TicTacToe/tictactoe/movements/moves-2021_right/grab_1.npz'\n",
    "robot.goto_position(path)\n",
    "time.sleep(1)\n",
    "robot.reachy.r_arm.r_gripper.compliant = False \n",
    "robot.reachy.r_arm.r_gripper.goal_position = 13 #close the gripper to take the cylinder \n",
    "time.sleep(1)"
   ]
  },
  {
   "cell_type": "code",
   "execution_count": null,
   "metadata": {},
   "outputs": [],
   "source": [
    "# Lift it\n",
    "path = '/home/reachy/repos/TicTacToe/tictactoe/movements/moves-2021_right/lift.npz'\n",
    "robot.goto_position(path)\n",
    "time.sleep(0.1)\n",
    "\n"
   ]
  },
  {
   "cell_type": "code",
   "execution_count": null,
   "metadata": {},
   "outputs": [],
   "source": [
    "# Put it in box_index\n",
    "\n",
    "path = f'/home/reachy/repos/TicTacToe/tictactoe/movements/moves-2021_right/put_1.npz'\n",
    "robot.trajectoryPlayer(path)\n",
    "time.sleep(4)\n",
    "robot.reachy.r_arm.r_gripper.compliant = False\n",
    "robot.reachy.r_arm.r_gripper.goal_position = -10\n",
    "time.sleep(1)\n",
    "\n"
   ]
  },
  {
   "cell_type": "code",
   "execution_count": null,
   "metadata": {},
   "outputs": [],
   "source": [
    "path = f'/home/reachy/repos/TicTacToe/tictactoe/movements/moves-2021_right/back_1_upright.npz'\n",
    "robot.goto_position(path)\n",
    "\n",
    "\n",
    "#if box_index in (8, 9):\n",
    "\n",
    "#    path = '/home/reachy/repos/TicTacToe/tictactoe/movements/moves-2021_right/back_to_back.npz'\n",
    "#    robot.goto_position(path)\n",
    "\n",
    "path = '/home/reachy/repos/TicTacToe/tictactoe/movements/moves-2021_right/back_rest.npz'\n",
    "robot.goto_position(path)\n",
    "\n",
    "robot.goto_rest_position()"
   ]
  },
  {
   "cell_type": "code",
   "execution_count": null,
   "metadata": {},
   "outputs": [],
   "source": [
    "robot.play_pawn(1,1)"
   ]
  },
  {
   "cell_type": "code",
   "execution_count": null,
   "metadata": {},
   "outputs": [],
   "source": [
    "robot.reachy.turn_off_smoothly('r_arm')"
   ]
  },
  {
   "cell_type": "code",
   "execution_count": null,
   "metadata": {},
   "outputs": [],
   "source": [
    "path = f'/home/reachy/repos/TicTacToe/tictactoe/movements/moves-2021_nemo/put_9.npz'\n",
    "trajectoryPlayer(path)"
   ]
  },
  {
   "cell_type": "code",
   "execution_count": null,
   "metadata": {},
   "outputs": [],
   "source": [
    "for f in reachy.fans.values():\n",
    "    f.on()"
   ]
  },
  {
   "cell_type": "code",
   "execution_count": null,
   "metadata": {},
   "outputs": [],
   "source": [
    "robot.reachy.turn_off_smoothly('r_arm')\n",
    "\n"
   ]
  },
  {
   "cell_type": "code",
   "execution_count": null,
   "metadata": {},
   "outputs": [],
   "source": [
    "for i in range(9):\n",
    "    state = board.get_board()\n",
    "    state_m  = np.where(state == 1, 3, state)\n",
    "    state_m  = np.where(state_m == 2, 1, state_m)\n",
    "    state_m  = np.where(state_m == 3, 2, state_m)\n",
    "    game = state_m[::-1]\n",
    "    game = np.array_split(state_m,3)\n",
    "    print(game[0])\n",
    "    print(game[1])\n",
    "    print(game[2])\n",
    "    print('     ')\n",
    "    print('     ')\n",
    "\n",
    "    action = - board.choose_next_action(state_m)[0] +9\n",
    "    #board.play_pawn(1,action)\n",
    "    time.sleep(2)\n"
   ]
  },
  {
   "cell_type": "code",
   "execution_count": null,
   "metadata": {},
   "outputs": [],
   "source": [
    "def trajectoryPlayer(path):\n",
    "    reachy.turn_on('r_arm')\n",
    "    move = np.load(path)\n",
    "    move.allow_pickle=1\n",
    "    #print(list(move.keys()))\n",
    "    #print(move['move'].shape)\n",
    "    listMoves = move['move'].tolist()\n",
    "    #print(move['move'])\n",
    "    #print(listMoves)\n",
    "    listTraj = [val for key,val in listMoves.items()]\n",
    "    listTraj = np.array(listTraj).T.tolist()\n",
    "\n",
    "    sampling_frequency = 100  #en hertz\n",
    "\n",
    "    recorded_joints = []\n",
    "    for joint,val in listMoves.items():\n",
    "        if 'neck' in joint : \n",
    "            fullName = joint\n",
    "        elif 'r_' in joint: \n",
    "            fullName = joint\n",
    "        elif 'l_' in joint: \n",
    "            fullName = joint\n",
    "        recorded_joints.append(eval(fullName))\n",
    "        \n",
    "    first_point = dict(zip(recorded_joints, listTraj[0]))\n",
    "    goto(first_point, duration=3.0)\n",
    "\n",
    "    for joints_positions in listTraj:\n",
    "        print(joints_positions)\n",
    "        for joint, pos in zip(recorded_joints, joints_positions):\n",
    "            joint.goal_position = pos\n",
    "        time.sleep(1 / sampling_frequency)"
   ]
  },
  {
   "cell_type": "code",
   "execution_count": null,
   "metadata": {},
   "outputs": [],
   "source": [
    "path = '/home/reachy/repos/TicTacToe/tictactoe/movements/moves-2021_right/put_1.npz'\n",
    "\n",
    "trajectoryPlayer(path)"
   ]
  },
  {
   "cell_type": "code",
   "execution_count": null,
   "metadata": {},
   "outputs": [],
   "source": [
    "reachy.turn_off_smoothly('r_arm')"
   ]
  },
  {
   "cell_type": "code",
   "execution_count": null,
   "metadata": {},
   "outputs": [],
   "source": []
  }
 ],
 "metadata": {
  "interpreter": {
   "hash": "e3ba50d256704eac77c4e85e4b333651444de19dce30ba05fcbffb6df31668ee"
  },
  "kernelspec": {
   "display_name": "Python 3.9.5 ('base')",
   "language": "python",
   "name": "python3"
  },
  "language_info": {
   "codemirror_mode": {
    "name": "ipython",
    "version": 3
   },
   "file_extension": ".py",
   "mimetype": "text/x-python",
   "name": "python",
   "nbconvert_exporter": "python",
   "pygments_lexer": "ipython3",
   "version": "3.9.5"
  },
  "orig_nbformat": 4
 },
 "nbformat": 4,
 "nbformat_minor": 2
}
