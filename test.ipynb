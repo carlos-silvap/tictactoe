{
 "cells": [
  {
   "cell_type": "code",
   "execution_count": 2,
   "metadata": {},
   "outputs": [],
   "source": [
    "from reachy_sdk import ReachySDK\n",
    "from reachy_sdk.trajectory import goto\n",
    "from reachy_sdk.trajectory.interpolation import InterpolationMode\n",
    "import time"
   ]
  },
  {
   "cell_type": "code",
   "execution_count": 3,
   "metadata": {},
   "outputs": [],
   "source": [
    "reachy = ReachySDK('localhost')"
   ]
  },
  {
   "cell_type": "code",
   "execution_count": null,
   "metadata": {},
   "outputs": [],
   "source": [
    "reachy.l_arm.l_gripper.speed_limit = 80\n",
    "reachy.l_arm.l_gripper.compliant = False\n",
    "reachy.turn_on('l_arm')"
   ]
  },
  {
   "cell_type": "code",
   "execution_count": null,
   "metadata": {},
   "outputs": [],
   "source": [
    "reachy.l_arm.l_gripper.goal_position = -80"
   ]
  },
  {
   "cell_type": "code",
   "execution_count": null,
   "metadata": {},
   "outputs": [],
   "source": [
    "reachy.l_arm.l_gripper.goal_position = -5"
   ]
  },
  {
   "cell_type": "code",
   "execution_count": 4,
   "metadata": {},
   "outputs": [],
   "source": [
    "reachy.turn_off('r_arm')"
   ]
  },
  {
   "cell_type": "code",
   "execution_count": null,
   "metadata": {},
   "outputs": [],
   "source": [
    "reachy.r_arm.r_gripper.speed_limit = 80\n",
    "reachy.r_arm.r_gripper.compliant = False\n",
    "reachy.turn_on('r_arm')"
   ]
  },
  {
   "cell_type": "code",
   "execution_count": null,
   "metadata": {},
   "outputs": [],
   "source": [
    "reachy.r_arm.r_gripper.goal_position = -10"
   ]
  },
  {
   "cell_type": "code",
   "execution_count": null,
   "metadata": {},
   "outputs": [],
   "source": [
    "reachy.r_arm.r_gripper.compliant = False \n",
    "reachy.r_arm.r_gripper.goal_position = 13"
   ]
  },
  {
   "cell_type": "code",
   "execution_count": null,
   "metadata": {},
   "outputs": [],
   "source": [
    "reachy.turn_off('r_arm')"
   ]
  },
  {
   "cell_type": "code",
   "execution_count": null,
   "metadata": {},
   "outputs": [],
   "source": [
    "reachy.r_arm.r_gripper.registers()"
   ]
  },
  {
   "cell_type": "code",
   "execution_count": null,
   "metadata": {},
   "outputs": [],
   "source": [
    "reachy.r_arm.r_gripper.temperature"
   ]
  },
  {
   "cell_type": "code",
   "execution_count": null,
   "metadata": {},
   "outputs": [],
   "source": [
    "reachy.l_arm.l_gripper.temperature"
   ]
  },
  {
   "cell_type": "code",
   "execution_count": null,
   "metadata": {},
   "outputs": [],
   "source": [
    "reachy.l_arm.l_gripper.registers()"
   ]
  },
  {
   "cell_type": "code",
   "execution_count": null,
   "metadata": {},
   "outputs": [],
   "source": [
    "def goto_base_position(duration=1.0):\n",
    "    reachy.turn_on('r_arm')\n",
    "    time.sleep(0.1)\n",
    "    goto(\n",
    "        goal_positions=\n",
    "                {reachy.r_arm.r_shoulder_pitch: 60,\n",
    "                reachy.r_arm.r_shoulder_roll: -15,\n",
    "                reachy.r_arm.r_arm_yaw: 0,\n",
    "                reachy.r_arm.r_elbow_pitch: -95,\n",
    "                reachy.r_arm.r_forearm_yaw: -15,\n",
    "                reachy.r_arm.r_wrist_pitch: -50,\n",
    "                reachy.r_arm.r_wrist_roll: 0},\n",
    "            duration=1.0,\n",
    "            interpolation_mode=InterpolationMode.MINIMUM_JERK\n",
    "        )\n",
    "    time.sleep(0.1)\n",
    "    reachy.r_arm.r_shoulder_pitch.torque_limit = 75\n",
    "    reachy.r_arm.r_elbow_pitch.torque_limit = 75"
   ]
  },
  {
   "cell_type": "code",
   "execution_count": null,
   "metadata": {},
   "outputs": [],
   "source": [
    "import numpy as np\n",
    "def goto_position(path): \n",
    "    reachy.turn_on('r_arm')\n",
    "    move = np.load(path)\n",
    "    move.allow_pickle=1\n",
    "    listMoves = move['move'].tolist()\n",
    "    listTraj = {}\n",
    "    for key,val in listMoves.items():\n",
    "        listTraj[eval(key)] = float(val)\n",
    "    goto(\n",
    "        goal_positions=listTraj, \n",
    "        duration=1.0,\n",
    "        interpolation_mode=InterpolationMode.MINIMUM_JERK\n",
    "    )"
   ]
  },
  {
   "cell_type": "code",
   "execution_count": null,
   "metadata": {},
   "outputs": [],
   "source": [
    "def trajectoryPlayer(path):\n",
    "    reachy.turn_on('r_arm')\n",
    "    move = np.load(path)\n",
    "    move.allow_pickle=1\n",
    "\n",
    "    listMoves = move['move'].tolist()\n",
    "    listTraj = [ val for key,val in listMoves.items()]\n",
    "    listTraj = np.array(listTraj).T.tolist()\n",
    "\n",
    "    sampling_frequency = 100  #en hertz\n",
    "    \n",
    "    recorded_joints = []\n",
    "    for joint,val in listMoves.items():\n",
    "        if 'neck' in joint : \n",
    "            fullName = joint\n",
    "        elif 'r_' in joint: \n",
    "            fullName = joint\n",
    "        elif 'l_' in joint: \n",
    "            fullName = joint\n",
    "        recorded_joints.append(eval(fullName))\n",
    "\n",
    "    for joint in recorded_joints:\n",
    "        joint.compliant = False\n",
    "\n",
    "    first_point = dict(zip(recorded_joints, listTraj[0]))\n",
    "    goto(first_point, duration=2.0)\n",
    "\n",
    "    for joints_positions in listTraj:\n",
    "        for joint, pos in zip(recorded_joints, joints_positions):\n",
    "            joint.goal_position = pos\n",
    "        time.sleep(1 / sampling_frequency)"
   ]
  },
  {
   "cell_type": "code",
   "execution_count": null,
   "metadata": {},
   "outputs": [],
   "source": [
    "def goto_rest_position(duration=1.0):\n",
    "    time.sleep(0.1)\n",
    "    reachy.head.look_at(x=1, y=0, z=0, duration=1) \n",
    "    goto_base_position(0.6 * duration)\n",
    "    time.sleep(0.1)\n",
    "\n",
    "    reachy.turn_on('r_arm')\n",
    "    goto(\n",
    "        goal_positions=\n",
    "                {reachy.r_arm.r_shoulder_pitch: 50,\n",
    "                reachy.r_arm.r_shoulder_roll: -15,\n",
    "                reachy.r_arm.r_arm_yaw: 0,\n",
    "                reachy.r_arm.r_elbow_pitch: -100,\n",
    "                reachy.r_arm.r_forearm_yaw: -15,\n",
    "                reachy.r_arm.r_wrist_pitch: -60,\n",
    "                reachy.r_arm.r_wrist_roll: 0},\n",
    "            duration=1.0,\n",
    "            interpolation_mode=InterpolationMode.MINIMUM_JERK\n",
    "        )\n",
    "    time.sleep(1)\n",
    "\n",
    "    time.sleep(0.25)\n",
    "\n",
    "\n",
    "    reachy.r_arm.r_shoulder_roll.comliant = True\n",
    "    reachy.r_arm.r_arm_yaw.comliant = True\n",
    "    reachy.r_arm.r_elbow_pitch.comliant = True\n",
    "    reachy.r_arm.r_forearm_yaw.comliant = True\n",
    "    reachy.r_arm.r_wrist_pitch.comliant = True\n",
    "    reachy.r_arm.r_wrist_roll.comliant = True\n",
    "    reachy.r_arm.r_gripper.comliant = True\n",
    "\n",
    "    #reachy.turn_off('r_arm')\n",
    "\n",
    "    time.sleep(0.25)"
   ]
  },
  {
   "cell_type": "code",
   "execution_count": null,
   "metadata": {},
   "outputs": [],
   "source": [
    "reachy.turn_off('r_arm')\n"
   ]
  },
  {
   "cell_type": "code",
   "execution_count": null,
   "metadata": {},
   "outputs": [],
   "source": [
    "goto_base_position()"
   ]
  },
  {
   "cell_type": "code",
   "execution_count": null,
   "metadata": {},
   "outputs": [],
   "source": [
    "path = \"/home/reachy/repos/TicTacToe/tictactoe/movements/grab_1.npz\"\n",
    "trajectoryPlayer(path)"
   ]
  },
  {
   "cell_type": "code",
   "execution_count": null,
   "metadata": {},
   "outputs": [],
   "source": [
    "goto_base_position() \n",
    "reachy.r_arm.r_gripper.goal_position = -10 #open the gripper \n",
    "#path = \"/home/reachy/repos/TicTacToe/tictactoe/movements/grab_1.npz\"\n",
    "#goto_position(path)\n",
    "path = f'/home/reachy/repos/TicTacToe/tictactoe/movements/moves_new/grab_1.npz'\n",
    "trajectoryPlayer(path)\n",
    "time.sleep(1)\n",
    "reachy.r_arm.r_gripper.compliant = False \n",
    "reachy.r_arm.r_gripper.goal_position = 13 #close the gripper to take the cylinder \n",
    "time.sleep(1)"
   ]
  },
  {
   "cell_type": "code",
   "execution_count": null,
   "metadata": {},
   "outputs": [],
   "source": [
    "def play_pawn(grab_index, box_index):\n",
    "    reachy.r_arm.r_gripper.speed_limit = 80\n",
    "    reachy.r_arm.r_gripper.compliant = False\n",
    "    reachy.turn_on('r_arm')\n",
    "\n",
    "    # Goto base position\n",
    "    goto_base_position() \n",
    "    reachy.r_arm.r_gripper.goal_position = -10 #open the gripper \n",
    "    path = \"/home/reachy/repos/TicTacToe/tictactoe/movements/moves-2021_right/grab_1.npz\"\n",
    "    goto_position(path)\n",
    "    #path = f'/home/reachy/repos/TicTacToe/tictactoe/movements/moves-2021_nemo/grab_{grab_index}.npz'\n",
    "    #trajectoryPlayer(path)\n",
    "    time.sleep(1)\n",
    "    reachy.r_arm.r_gripper.compliant = False \n",
    "    reachy.r_arm.r_gripper.goal_position = 13 #close the gripper to take the cylinder \n",
    "    time.sleep(1)\n",
    "\n",
    "\n",
    "    if grab_index >= 4:\n",
    "        goto(\n",
    "        goal_positions = {\n",
    "            reachy.r_arm.r_shoulder_pitch : reachy.r_arm.r_shoulder_pitch.goal_position+10, \n",
    "            reachy.r_arm.r_elbow_pitch : reachy.r_arm.r_elbow_pitch.goal_position+10, \n",
    "            },\n",
    "            duration =1.0,\n",
    "            interpolation_mode=InterpolationMode.MINIMUM_JERK\n",
    "        )\n",
    "\n",
    "    # Lift it\n",
    "    path = '/home/reachy/repos/TicTacToe/tictactoe/movements/moves-2021_right/lift.npz'\n",
    "    goto_position(path)\n",
    "    time.sleep(0.1)\n",
    "\n",
    "    # Put it in box_index\n",
    "\n",
    "    path = f'/home/reachy/repos/TicTacToe/tictactoe/movements/moves-2021_right/put_{box_index}.npz'\n",
    "    trajectoryPlayer(path)\n",
    "    time.sleep(1)\n",
    "    reachy.r_arm.r_gripper.compliant = False\n",
    "    reachy.r_arm.r_gripper.goal_position = -10\n",
    "    time.sleep(1)\n",
    "\n",
    "    path = f'/home/reachy/repos/TicTacToe/tictactoe/movements/moves-2021_right/back_{box_index}_upright.npz'\n",
    "    goto_position(path)\n",
    "\n",
    "\n",
    "    if box_index in (8, 9):\n",
    "\n",
    "        path = '/home/reachy/repos/TicTacToe/tictactoe/movements/moves-2021_right/back_to_back.npz'\n",
    "        goto_position(path)\n",
    "\n",
    "    path = '/home/reachy/repos/TicTacToe/tictactoe/movements/moves-2021_right/back_rest.npz'\n",
    "    goto_position(path)\n",
    "\n",
    "    goto_rest_position()"
   ]
  },
  {
   "cell_type": "code",
   "execution_count": null,
   "metadata": {},
   "outputs": [],
   "source": [
    "path = f'/home/reachy/repos/TicTacToe/tictactoe/movements/moves-2021_nemo/put_9.npz'\n",
    "trajectoryPlayer(path)"
   ]
  },
  {
   "cell_type": "code",
   "execution_count": null,
   "metadata": {},
   "outputs": [],
   "source": [
    "play_pawn(1,1)\n",
    "play_pawn(1,2)\n",
    "play_pawn(1,3)\n",
    "play_pawn(1,4)\n",
    "play_pawn(1,5)\n",
    "play_pawn(1,6)\n",
    "\n"
   ]
  },
  {
   "cell_type": "code",
   "execution_count": null,
   "metadata": {},
   "outputs": [],
   "source": [
    "play_pawn(1,3)"
   ]
  },
  {
   "cell_type": "code",
   "execution_count": null,
   "metadata": {},
   "outputs": [],
   "source": [
    "for f in reachy.fans.values():\n",
    "    f.on()"
   ]
  },
  {
   "cell_type": "code",
   "execution_count": 1,
   "metadata": {},
   "outputs": [
    {
     "ename": "NameError",
     "evalue": "name 'reachy' is not defined",
     "output_type": "error",
     "traceback": [
      "\u001b[0;31m---------------------------------------------------------------------------\u001b[0m",
      "\u001b[0;31mNameError\u001b[0m                                 Traceback (most recent call last)",
      "\u001b[0;32m/tmp/ipykernel_3731/1691341513.py\u001b[0m in \u001b[0;36m<module>\u001b[0;34m\u001b[0m\n\u001b[0;32m----> 1\u001b[0;31m \u001b[0mreachy\u001b[0m\u001b[0;34m.\u001b[0m\u001b[0mturn_off\u001b[0m\u001b[0;34m(\u001b[0m\u001b[0;34m'r_arm'\u001b[0m\u001b[0;34m)\u001b[0m\u001b[0;34m\u001b[0m\u001b[0;34m\u001b[0m\u001b[0m\n\u001b[0m\u001b[1;32m      2\u001b[0m \u001b[0;34m\u001b[0m\u001b[0m\n",
      "\u001b[0;31mNameError\u001b[0m: name 'reachy' is not defined"
     ]
    }
   ],
   "source": [
    "reachy.turn_off('r_arm')\n",
    "\n"
   ]
  },
  {
   "cell_type": "code",
   "execution_count": null,
   "metadata": {},
   "outputs": [],
   "source": [
    "for i in range(9):\n",
    "    state = board.get_board()\n",
    "    state_m  = np.where(state == 1, 3, state)\n",
    "    state_m  = np.where(state_m == 2, 1, state_m)\n",
    "    state_m  = np.where(state_m == 3, 2, state_m)\n",
    "    game = state_m[::-1]\n",
    "    game = np.array_split(state_m,3)\n",
    "    print(game[0])\n",
    "    print(game[1])\n",
    "    print(game[2])\n",
    "    print('     ')\n",
    "    print('     ')\n",
    "\n",
    "    action = - board.choose_next_action(state_m)[0] +9\n",
    "    #board.play_pawn(1,action)\n",
    "    time.sleep(2)\n"
   ]
  }
 ],
 "metadata": {
  "interpreter": {
   "hash": "c2654fa1328f1f753d846cf275a9624b675279364746a4aa299be408a29fb5e7"
  },
  "kernelspec": {
   "display_name": "Python 3.6.13 ('tf1')",
   "language": "python",
   "name": "python3"
  },
  "language_info": {
   "codemirror_mode": {
    "name": "ipython",
    "version": 3
   },
   "file_extension": ".py",
   "mimetype": "text/x-python",
   "name": "python",
   "nbconvert_exporter": "python",
   "pygments_lexer": "ipython3",
   "version": "3.8.10"
  },
  "orig_nbformat": 4
 },
 "nbformat": 4,
 "nbformat_minor": 2
}
